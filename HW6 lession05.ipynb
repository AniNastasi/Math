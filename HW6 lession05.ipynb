{
 "cells": [
  {
   "cell_type": "code",
   "execution_count": 1,
   "id": "01ace767",
   "metadata": {},
   "outputs": [],
   "source": [
    "%matplotlib inline\n",
    "import numpy as np"
   ]
  },
  {
   "cell_type": "code",
   "execution_count": 2,
   "id": "a6b9684b",
   "metadata": {},
   "outputs": [
    {
     "name": "stdout",
     "output_type": "stream",
     "text": [
      "\n",
      "red\n",
      "\n",
      "red\n",
      "\n",
      "black\n",
      "\n",
      "black\n",
      "\n",
      "black\n"
     ]
    }
   ],
   "source": [
    "# 1\n",
    "for i in range(0, 5):\n",
    "    a = input()\n",
    "    i = np.random.randint(0, 36)\n",
    "    if i==0:\n",
    "        print(\"green\")\n",
    "    elif i%2==0:\n",
    "        print(\"black\")\n",
    "    else:\n",
    "        print(\"red\")"
   ]
  },
  {
   "cell_type": "code",
   "execution_count": 6,
   "id": "56e9b1e1",
   "metadata": {},
   "outputs": [
    {
     "name": "stdout",
     "output_type": "stream",
     "text": [
      "51 49 101\n"
     ]
    }
   ],
   "source": [
    "# 2.1\n",
    "k,m,l = 0, 0, 0\n",
    "n = 100\n",
    "for i in range(0, n):\n",
    "    x = np.random.randint(0, 36)\n",
    "    l=l+1\n",
    "    if x==0:\n",
    "        l = l + 1\n",
    "    if x%2==0:\n",
    "        k = k + 1 \n",
    "    else:\n",
    "        m = m + 1\n",
    "\n",
    "print(k,m,l)"
   ]
  },
  {
   "cell_type": "code",
   "execution_count": 10,
   "id": "ae398380",
   "metadata": {},
   "outputs": [],
   "source": [
    "%matplotlib inline\n",
    "import numpy as np\n",
    "import matplotlib.pyplot as plt\n",
    "import matplotlib.mlab as mlab"
   ]
  },
  {
   "cell_type": "code",
   "execution_count": 11,
   "id": "fb435311",
   "metadata": {},
   "outputs": [
    {
     "data": {
      "text/plain": [
       "Text(0.5, 1.0, 'Histogram')"
      ]
     },
     "execution_count": 11,
     "metadata": {},
     "output_type": "execute_result"
    },
    {
     "data": {
      "image/png": "[encoded data removed]",
      "text/plain": [
       "<Figure size 432x288 with 1 Axes>"
      ]
     },
     "metadata": {
      "needs_background": "light"
     },
     "output_type": "display_data"
    }
   ],
   "source": [
    "# 2.2\n",
    "x = np.random.rand(10)\n",
    "num_bins = 5\n",
    "n, bins, patches = plt.hist(x, num_bins)\n",
    "plt.xlabel('x')\n",
    "plt.ylabel('Probability')\n",
    "plt.title('Histogram')"
   ]
  },
  {
   "cell_type": "code",
   "execution_count": 23,
   "id": "75f92130",
   "metadata": {},
   "outputs": [
    {
     "data": {
      "text/plain": [
       "Text(0.5, 1.0, 'Histogram')"
      ]
     },
     "execution_count": 23,
     "metadata": {},
     "output_type": "execute_result"
    },
    {
     "data": {
      "image/png": "[encoded data removed]",
      "text/plain": [
       "<Figure size 432x288 with 1 Axes>"
      ]
     },
     "metadata": {
      "needs_background": "light"
     },
     "output_type": "display_data"
    }
   ],
   "source": [
    "#2.2\n",
    "allsums=[]\n",
    "for i in range(10):\n",
    "  x=np.random.rand(100)\n",
    "  allsums.append(sum(x))\n",
    "  i+=1\n",
    "num_bins = 10\n",
    "n, bins, patches = plt.hist(allsums, num_bins)\n",
    "plt.xlabel('summa')\n",
    "plt.ylabel('Probability')\n",
    "plt.title('Histogram')\n"
   ]
  },
  {
   "cell_type": "code",
   "execution_count": 25,
   "id": "46fb0c69",
   "metadata": {},
   "outputs": [],
   "source": [
    "import numpy as np\n",
    "import itertools\n",
    "import sys\n",
    "import math"
   ]
  },
  {
   "cell_type": "code",
   "execution_count": 32,
   "id": "aa85e17e",
   "metadata": {},
   "outputs": [
    {
     "name": "stdout",
     "output_type": "stream",
     "text": [
      "42 100 0.42 7.888609052210118e-31\n"
     ]
    }
   ],
   "source": [
    "# 3\n",
    "k, n = 2, 100\n",
    "a = np.random.randint(0, 2, n)\n",
    "b = np.random.randint(0, 2, n)\n",
    "c = np.random.randint(0, 2, n)\n",
    "d = np.random.randint(0, 2, n)\n",
    "x = a + b + c + d\n",
    "for i in range(0, n):\n",
    "    if x[i] == 2:\n",
    "        k = k + 1\n",
    "v=(0.5**k)*(0.5**(n-k))\n",
    "# print(a, b, c, d)\n",
    "# print(x)\n",
    "print(k, n, k/n, v)"
   ]
  },
  {
   "cell_type": "code",
   "execution_count": 34,
   "id": "f97e1a56",
   "metadata": {},
   "outputs": [],
   "source": [
    "import numpy as np\n",
    "import itertools"
   ]
  },
  {
   "cell_type": "code",
   "execution_count": 35,
   "id": "f63f328d",
   "metadata": {},
   "outputs": [
    {
     "name": "stdout",
     "output_type": "stream",
     "text": [
      "0000\n",
      "0001\n",
      "0010\n",
      "0011\n",
      "0100\n",
      "0101\n",
      "0110\n",
      "0111\n",
      "1000\n",
      "1001\n",
      "1010\n",
      "1011\n",
      "1100\n",
      "1101\n",
      "1110\n",
      "1111\n"
     ]
    }
   ],
   "source": [
    "# 4\n",
    "for p in itertools.product(\"01\",repeat=4):\n",
    "    print(''.join(p))   "
   ]
  },
  {
   "cell_type": "code",
   "execution_count": 24,
   "id": "b16a1e6b",
   "metadata": {},
   "outputs": [],
   "source": [
    "%matplotlib inline\n",
    "import matplotlib.pyplot as plt"
   ]
  },
  {
   "cell_type": "code",
   "execution_count": 29,
   "id": "6a4ecced",
   "metadata": {},
   "outputs": [
    {
     "data": {
      "image/png": "[encoded data removed]",
      "text/plain": [
       "<Figure size 432x288 with 1 Axes>"
      ]
     },
     "metadata": {
      "needs_background": "light"
     },
     "output_type": "display_data"
    }
   ],
   "source": [
    "x = np.linspace(-2, 3, 21)\n",
    "plt.plot(x, x**2-1 , 'ro-')\n",
    "plt.xlabel('x')\n",
    "plt.ylabel('y')\n",
    "plt.ylim(-1,8) \n",
    "plt.grid(True)\n",
    "plt.show()"
   ]
  }
 ],
 "metadata": {
  "kernelspec": {
   "display_name": "Python 3 (ipykernel)",
   "language": "python",
   "name": "python3"
  },
  "language_info": {
   "codemirror_mode": {
    "name": "ipython",
    "version": 3
   },
   "file_extension": ".py",
   "mimetype": "text/x-python",
   "name": "python",
   "nbconvert_exporter": "python",
   "pygments_lexer": "ipython3",
   "version": "3.9.7"
  }
 },
 "nbformat": 4,
 "nbformat_minor": 5
}
